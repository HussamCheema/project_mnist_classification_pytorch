{
  "nbformat": 4,
  "nbformat_minor": 0,
  "metadata": {
    "colab": {
      "provenance": []
    },
    "kernelspec": {
      "name": "python3",
      "display_name": "Python 3"
    },
    "language_info": {
      "name": "python"
    }
  },
  "cells": [
    {
      "cell_type": "code",
      "execution_count": 1,
      "metadata": {
        "id": "fOTiCwBopIY_"
      },
      "outputs": [],
      "source": [
        "import sys\n",
        "import numpy as np\n",
        "import torch\n",
        "import torch.nn as nn\n",
        "import pandas as pd\n",
        "import sklearn\n",
        "import sklearn.model_selection\n",
        "from torch.nn.functional import one_hot\n",
        "from torch.utils.data import DataLoader, TensorDataset\n",
        "import torchvision \n",
        "from torchvision import transforms "
      ]
    },
    {
      "cell_type": "code",
      "source": [
        "image_path = './'\n",
        "transform = transforms.Compose([transforms.ToTensor()])\n",
        "\n",
        "mnist_train_dataset = torchvision.datasets.MNIST(root=image_path, \n",
        "                                           train=True, \n",
        "                                           transform=transform, \n",
        "                                           download=True)\n",
        "mnist_test_dataset = torchvision.datasets.MNIST(root=image_path, \n",
        "                                           train=False, \n",
        "                                           transform=transform, \n",
        "                                           download=False)"
      ],
      "metadata": {
        "colab": {
          "base_uri": "https://localhost:8080/"
        },
        "id": "5XbrmuKtpfTD",
        "outputId": "3ead28e7-2732-4ded-af94-30dba8154802"
      },
      "execution_count": 2,
      "outputs": [
        {
          "output_type": "stream",
          "name": "stdout",
          "text": [
            "Downloading http://yann.lecun.com/exdb/mnist/train-images-idx3-ubyte.gz\n",
            "Downloading http://yann.lecun.com/exdb/mnist/train-images-idx3-ubyte.gz to ./MNIST/raw/train-images-idx3-ubyte.gz\n"
          ]
        },
        {
          "output_type": "stream",
          "name": "stderr",
          "text": [
            "100%|██████████| 9912422/9912422 [00:00<00:00, 80113209.14it/s]\n"
          ]
        },
        {
          "output_type": "stream",
          "name": "stdout",
          "text": [
            "Extracting ./MNIST/raw/train-images-idx3-ubyte.gz to ./MNIST/raw\n",
            "\n",
            "Downloading http://yann.lecun.com/exdb/mnist/train-labels-idx1-ubyte.gz\n",
            "Downloading http://yann.lecun.com/exdb/mnist/train-labels-idx1-ubyte.gz to ./MNIST/raw/train-labels-idx1-ubyte.gz\n"
          ]
        },
        {
          "output_type": "stream",
          "name": "stderr",
          "text": [
            "100%|██████████| 28881/28881 [00:00<00:00, 31903000.74it/s]\n"
          ]
        },
        {
          "output_type": "stream",
          "name": "stdout",
          "text": [
            "Extracting ./MNIST/raw/train-labels-idx1-ubyte.gz to ./MNIST/raw\n",
            "\n",
            "Downloading http://yann.lecun.com/exdb/mnist/t10k-images-idx3-ubyte.gz\n",
            "Downloading http://yann.lecun.com/exdb/mnist/t10k-images-idx3-ubyte.gz to ./MNIST/raw/t10k-images-idx3-ubyte.gz\n"
          ]
        },
        {
          "output_type": "stream",
          "name": "stderr",
          "text": [
            "100%|██████████| 1648877/1648877 [00:00<00:00, 20987519.56it/s]\n"
          ]
        },
        {
          "output_type": "stream",
          "name": "stdout",
          "text": [
            "Extracting ./MNIST/raw/t10k-images-idx3-ubyte.gz to ./MNIST/raw\n",
            "\n",
            "Downloading http://yann.lecun.com/exdb/mnist/t10k-labels-idx1-ubyte.gz\n",
            "Downloading http://yann.lecun.com/exdb/mnist/t10k-labels-idx1-ubyte.gz to ./MNIST/raw/t10k-labels-idx1-ubyte.gz\n"
          ]
        },
        {
          "output_type": "stream",
          "name": "stderr",
          "text": [
            "100%|██████████| 4542/4542 [00:00<00:00, 14238063.35it/s]\n"
          ]
        },
        {
          "output_type": "stream",
          "name": "stdout",
          "text": [
            "Extracting ./MNIST/raw/t10k-labels-idx1-ubyte.gz to ./MNIST/raw\n",
            "\n"
          ]
        }
      ]
    },
    {
      "cell_type": "code",
      "source": [
        "batch_size = 64\n",
        "torch.manual_seed(1)\n",
        "train_dl = DataLoader(mnist_train_dataset, batch_size, shuffle=True)"
      ],
      "metadata": {
        "id": "SGdv374IrSOm"
      },
      "execution_count": 3,
      "outputs": []
    },
    {
      "cell_type": "code",
      "source": [
        "hidden_units = [32, 16]\n",
        "image_size = mnist_train_dataset[0][0].shape\n",
        "input_size = image_size[0] * image_size[1] * image_size[2]\n",
        "\n",
        "all_layers = [nn.Flatten()]\n",
        "for hidden_unit in hidden_units:\n",
        "    layer = nn.Linear(input_size, hidden_unit)\n",
        "    all_layers.append(layer)\n",
        "    all_layers.append(nn.ReLU())\n",
        "    input_size = hidden_unit\n",
        "\n",
        "all_layers.append(nn.Linear(hidden_units[-1], 10))\n",
        "model = nn.Sequential(*all_layers)\n",
        "\n",
        "model"
      ],
      "metadata": {
        "colab": {
          "base_uri": "https://localhost:8080/"
        },
        "id": "N0jVxoMXrXFZ",
        "outputId": "ea2e4d6b-326f-404d-cf16-ac80e5410a5e"
      },
      "execution_count": 4,
      "outputs": [
        {
          "output_type": "execute_result",
          "data": {
            "text/plain": [
              "Sequential(\n",
              "  (0): Flatten(start_dim=1, end_dim=-1)\n",
              "  (1): Linear(in_features=784, out_features=32, bias=True)\n",
              "  (2): ReLU()\n",
              "  (3): Linear(in_features=32, out_features=16, bias=True)\n",
              "  (4): ReLU()\n",
              "  (5): Linear(in_features=16, out_features=10, bias=True)\n",
              ")"
            ]
          },
          "metadata": {},
          "execution_count": 4
        }
      ]
    },
    {
      "cell_type": "code",
      "source": [
        "loss_fn = nn.CrossEntropyLoss()\n",
        "optimizer = torch.optim.Adam(model.parameters(), lr=0.001)"
      ],
      "metadata": {
        "id": "dbweMkRNrY9Q"
      },
      "execution_count": 5,
      "outputs": []
    },
    {
      "cell_type": "code",
      "source": [
        "torch.manual_seed(1)\n",
        "num_epochs = 20\n",
        "for epoch in range(num_epochs):\n",
        "    accuracy_hist_train = 0\n",
        "    for x_batch, y_batch in train_dl:\n",
        "        pred = model(x_batch)\n",
        "        loss = loss_fn(pred, y_batch)\n",
        "        loss.backward()\n",
        "        optimizer.step()\n",
        "        optimizer.zero_grad()\n",
        "        is_correct = (torch.argmax(pred, dim=1) == y_batch).float()\n",
        "        accuracy_hist_train += is_correct.sum()\n",
        "    accuracy_hist_train /= len(train_dl.dataset)\n",
        "    print(f'Epoch {epoch}  Accuracy {accuracy_hist_train:.4f}')"
      ],
      "metadata": {
        "colab": {
          "base_uri": "https://localhost:8080/"
        },
        "id": "dQIMMHPHrbPW",
        "outputId": "4e35dad6-e750-4b6c-c1af-5b37cebaeac4"
      },
      "execution_count": 6,
      "outputs": [
        {
          "output_type": "stream",
          "name": "stdout",
          "text": [
            "Epoch 0  Accuracy 0.8531\n",
            "Epoch 1  Accuracy 0.9287\n",
            "Epoch 2  Accuracy 0.9413\n",
            "Epoch 3  Accuracy 0.9506\n",
            "Epoch 4  Accuracy 0.9558\n",
            "Epoch 5  Accuracy 0.9592\n",
            "Epoch 6  Accuracy 0.9627\n",
            "Epoch 7  Accuracy 0.9649\n",
            "Epoch 8  Accuracy 0.9673\n",
            "Epoch 9  Accuracy 0.9690\n",
            "Epoch 10  Accuracy 0.9711\n",
            "Epoch 11  Accuracy 0.9729\n",
            "Epoch 12  Accuracy 0.9737\n",
            "Epoch 13  Accuracy 0.9747\n",
            "Epoch 14  Accuracy 0.9766\n",
            "Epoch 15  Accuracy 0.9778\n",
            "Epoch 16  Accuracy 0.9780\n",
            "Epoch 17  Accuracy 0.9798\n",
            "Epoch 18  Accuracy 0.9807\n",
            "Epoch 19  Accuracy 0.9815\n"
          ]
        }
      ]
    },
    {
      "cell_type": "code",
      "source": [
        "pred = model(mnist_test_dataset.data / 255.)\n",
        "is_correct = (torch.argmax(pred, dim=1) == mnist_test_dataset.targets).float()\n",
        "print(f'Test accuracy: {is_correct.mean():.4f}') "
      ],
      "metadata": {
        "colab": {
          "base_uri": "https://localhost:8080/"
        },
        "id": "3r7YdhFZrc4B",
        "outputId": "2ca8bb6b-46bf-4ce9-a70d-8a5394c81201"
      },
      "execution_count": 7,
      "outputs": [
        {
          "output_type": "stream",
          "name": "stdout",
          "text": [
            "Test accuracy: 0.9647\n"
          ]
        }
      ]
    },
    {
      "cell_type": "code",
      "source": [],
      "metadata": {
        "id": "5er1ACxptzQD"
      },
      "execution_count": null,
      "outputs": []
    }
  ]
}